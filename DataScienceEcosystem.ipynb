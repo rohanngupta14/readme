{
 "cells": [
  {
   "cell_type": "markdown",
   "id": "3de2c325",
   "metadata": {},
   "source": [
    "<h1>DataScienceEcosystem</h1>"
   ]
  },
  {
   "cell_type": "markdown",
   "id": "517923bc",
   "metadata": {},
   "source": [
    "In this notebook, Data Science Tools and Ecosystem are summarized."
   ]
  },
  {
   "cell_type": "markdown",
   "id": "49cea70d",
   "metadata": {},
   "source": [
    "    Some of the popular languages that Data Scientists use are:\n",
    "    1.python \n",
    "    2.R\n",
    "    3.julia"
   ]
  },
  {
   "cell_type": "markdown",
   "id": "3d51e231",
   "metadata": {},
   "source": [
    "    Some of the commonly used libraries used by Data Scientists include:\n",
    "    1.pandas\n",
    "    2.matplotlib\n",
    "    3.tensorflow\n",
    "    4.numpy\n",
    "    "
   ]
  },
  {
   "cell_type": "markdown",
   "id": "80dcd5ce",
   "metadata": {},
   "source": [
    "|Data Science Tools|\n",
    "|------------------|\n",
    "|RapidMiner|\n",
    "|Apache Spark|\n",
    "|KNIME|\n",
    "|TensorFlow|"
   ]
  },
  {
   "cell_type": "markdown",
   "id": "f81b4456",
   "metadata": {},
   "source": [
    "<h3>Below are a few examples of evaluating arithmetic expressions in Python</h3>"
   ]
  },
  {
   "cell_type": "code",
   "execution_count": 2,
   "id": "718505c1",
   "metadata": {},
   "outputs": [
    {
     "data": {
      "text/plain": [
       "17"
      ]
     },
     "execution_count": 2,
     "metadata": {},
     "output_type": "execute_result"
    }
   ],
   "source": [
    "(3*4)+5\n",
    " #This a simple arithmetic expression to mutiply then add integers"
   ]
  },
  {
   "cell_type": "code",
   "execution_count": 5,
   "id": "9a6f7cdc",
   "metadata": {},
   "outputs": [
    {
     "data": {
      "text/plain": [
       "3.3333333333333335"
      ]
     },
     "execution_count": 5,
     "metadata": {},
     "output_type": "execute_result"
    }
   ],
   "source": [
    "#This will convert 200 minutes to hours by diving by 60\n",
    "200/60"
   ]
  },
  {
   "cell_type": "markdown",
   "id": "06af8ed0",
   "metadata": {},
   "source": [
    "<h1>Objectives:</h1>\n",
    "    <h2>unordered list</h2>\n",
    "    <h3>Some of the popular languages that Data Scientists use are:</h3>\n",
    "        <li>python</li>\n",
    "        <li>R</li>\n",
    "        <li>julia</li>\n",
    "\n",
    "​"
   ]
  },
  {
   "cell_type": "markdown",
   "id": "1c522b09",
   "metadata": {},
   "source": [
    "<h1>Author</h1>\n",
    "Rohan Gupta"
   ]
  },
  {
   "cell_type": "code",
   "execution_count": null,
   "id": "a9b30b75",
   "metadata": {},
   "outputs": [],
   "source": []
  }
 ],
 "metadata": {
  "kernelspec": {
   "display_name": "Python 3 (ipykernel)",
   "language": "python",
   "name": "python3"
  },
  "language_info": {
   "codemirror_mode": {
    "name": "ipython",
    "version": 3
   },
   "file_extension": ".py",
   "mimetype": "text/x-python",
   "name": "python",
   "nbconvert_exporter": "python",
   "pygments_lexer": "ipython3",
   "version": "3.11.1"
  }
 },
 "nbformat": 4,
 "nbformat_minor": 5
}
